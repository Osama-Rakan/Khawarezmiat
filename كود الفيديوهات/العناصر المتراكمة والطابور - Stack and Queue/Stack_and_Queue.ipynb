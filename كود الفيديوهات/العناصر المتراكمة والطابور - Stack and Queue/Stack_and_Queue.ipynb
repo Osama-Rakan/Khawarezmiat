{
  "nbformat": 4,
  "nbformat_minor": 0,
  "metadata": {
    "colab": {
      "provenance": []
    },
    "kernelspec": {
      "name": "python3",
      "display_name": "Python 3"
    },
    "language_info": {
      "name": "python"
    }
  },
  "cells": [
    {
      "cell_type": "code",
      "execution_count": 3,
      "metadata": {
        "colab": {
          "base_uri": "https://localhost:8080/"
        },
        "id": "SfBS_SHpmh0I",
        "outputId": "524d60b0-f602-4955-89a9-3cc1946b7ca6"
      },
      "outputs": [
        {
          "output_type": "stream",
          "name": "stdout",
          "text": [
            "Stack = [1, 2, 3, 4, 5]\n"
          ]
        }
      ],
      "source": [
        "elements = [1, 2, 3, 4, 5]\n",
        "\n",
        "stack = []\n",
        "\n",
        "for element in elements:\n",
        "  stack.append(element) # Push O(1)\n",
        "\n",
        "print('Stack =', stack)"
      ]
    },
    {
      "cell_type": "code",
      "source": [
        "while stack:\n",
        "  print(stack.pop()) # Pop O(1)"
      ],
      "metadata": {
        "colab": {
          "base_uri": "https://localhost:8080/"
        },
        "id": "fmePwaoGqwRx",
        "outputId": "298963b4-b484-400d-db8e-c6987921ebf5"
      },
      "execution_count": null,
      "outputs": [
        {
          "output_type": "stream",
          "name": "stdout",
          "text": [
            "5\n",
            "4\n",
            "3\n",
            "2\n",
            "1\n"
          ]
        }
      ]
    },
    {
      "cell_type": "code",
      "source": [
        "from collections import deque\n",
        "\n",
        "queue = deque()\n",
        "\n",
        "for element in elements:\n",
        "  queue.append(element) # EnQueue O(1)\n",
        "\n",
        "print(queue)"
      ],
      "metadata": {
        "colab": {
          "base_uri": "https://localhost:8080/"
        },
        "id": "oSBII7Jsung8",
        "outputId": "53a7fb6f-0b4d-4869-bc58-a32d8a1dabfa"
      },
      "execution_count": null,
      "outputs": [
        {
          "output_type": "stream",
          "name": "stdout",
          "text": [
            "deque([1, 2, 3, 4, 5])\n"
          ]
        }
      ]
    },
    {
      "cell_type": "code",
      "source": [
        "while queue:\n",
        "  print(queue.popleft()) # DeQueue O(1)"
      ],
      "metadata": {
        "colab": {
          "base_uri": "https://localhost:8080/"
        },
        "id": "z4fQEdDgv_Lv",
        "outputId": "88ec2a41-bf0c-4fb7-c719-d872132c0a7f"
      },
      "execution_count": null,
      "outputs": [
        {
          "output_type": "stream",
          "name": "stdout",
          "text": [
            "1\n",
            "2\n",
            "3\n",
            "4\n",
            "5\n"
          ]
        }
      ]
    },
    {
      "cell_type": "code",
      "source": [
        "class Node:\n",
        "  def __init__(self, val=None):\n",
        "    self.val = val\n",
        "    self.next = None\n",
        "    self.previous = None\n",
        "\n",
        "\n",
        "class Queue:\n",
        "  def __init__(self):\n",
        "    self.length = 0\n",
        "    self.head = None\n",
        "    self.tail = None\n",
        "\n",
        "  def append(self, value): # EnQueue O(1)\n",
        "    newNode = Node(value)\n",
        "    if self.head is None:\n",
        "      self.head = self.tail = newNode\n",
        "    else:\n",
        "      self.tail.next = newNode\n",
        "      newNode.previous = self.tail\n",
        "      self.tail = newNode\n",
        "    self.length += 1\n",
        "\n",
        "  def popleft(self): # DeQueue O(1)\n",
        "    val = self.head.val\n",
        "    self.head = self.head.next\n",
        "    self.length -= 1\n",
        "    if self.length == 0:\n",
        "        self.tail = None\n",
        "    return val"
      ],
      "metadata": {
        "id": "qpBBjI1lwA1N"
      },
      "execution_count": 25,
      "outputs": []
    },
    {
      "cell_type": "code",
      "source": [
        "queue = Queue()\n",
        "\n",
        "for element in elements:\n",
        "  queue.append(element) # EnQueue O(1)\n",
        "\n",
        "while queue.length:\n",
        "  print(queue.popleft()) # DeQueue O(1)"
      ],
      "metadata": {
        "colab": {
          "base_uri": "https://localhost:8080/"
        },
        "id": "rsHN3qemiZ6s",
        "outputId": "938cb60c-a4a8-4eff-cdf1-5fe50ca33cf3"
      },
      "execution_count": 29,
      "outputs": [
        {
          "output_type": "stream",
          "name": "stdout",
          "text": [
            "1\n",
            "2\n",
            "3\n",
            "4\n",
            "5\n"
          ]
        }
      ]
    },
    {
      "cell_type": "code",
      "source": [],
      "metadata": {
        "id": "0TAiP6XEjY9V"
      },
      "execution_count": null,
      "outputs": []
    }
  ]
}