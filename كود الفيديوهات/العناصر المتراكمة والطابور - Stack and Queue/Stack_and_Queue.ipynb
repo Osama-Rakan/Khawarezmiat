{
  "nbformat": 4,
  "nbformat_minor": 0,
  "metadata": {
    "colab": {
      "provenance": []
    },
    "kernelspec": {
      "name": "python3",
      "display_name": "Python 3"
    },
    "language_info": {
      "name": "python"
    }
  },
  "cells": [
    {
      "cell_type": "code",
      "execution_count": 43,
      "metadata": {
        "colab": {
          "base_uri": "https://localhost:8080/"
        },
        "id": "SfBS_SHpmh0I",
        "outputId": "173c2e92-6885-47ae-c42d-400733e1adeb"
      },
      "outputs": [
        {
          "output_type": "stream",
          "name": "stdout",
          "text": [
            "Stack = [1, 2, 3, 4, 5]\n"
          ]
        }
      ],
      "source": [
        "elements = [1, 2, 3, 4, 5]\n",
        "\n",
        "stack = []\n",
        "\n",
        "for element in elements:\n",
        "  stack.append(element) # Push O(1)\n",
        "\n",
        "print('Stack =', stack)"
      ]
    },
    {
      "cell_type": "code",
      "source": [
        "while stack:\n",
        "  print(stack.pop()) # Pop O(1)"
      ],
      "metadata": {
        "colab": {
          "base_uri": "https://localhost:8080/"
        },
        "id": "fmePwaoGqwRx",
        "outputId": "298963b4-b484-400d-db8e-c6987921ebf5"
      },
      "execution_count": 44,
      "outputs": [
        {
          "output_type": "stream",
          "name": "stdout",
          "text": [
            "5\n",
            "4\n",
            "3\n",
            "2\n",
            "1\n"
          ]
        }
      ]
    },
    {
      "cell_type": "code",
      "source": [
        "from collections import deque\n",
        "\n",
        "queue = deque()\n",
        "\n",
        "for element in elements:\n",
        "  queue.append(element) # EnQueue O(1)\n",
        "\n",
        "print(queue)"
      ],
      "metadata": {
        "colab": {
          "base_uri": "https://localhost:8080/"
        },
        "id": "oSBII7Jsung8",
        "outputId": "53a7fb6f-0b4d-4869-bc58-a32d8a1dabfa"
      },
      "execution_count": 45,
      "outputs": [
        {
          "output_type": "stream",
          "name": "stdout",
          "text": [
            "deque([1, 2, 3, 4, 5])\n"
          ]
        }
      ]
    },
    {
      "cell_type": "code",
      "source": [
        "while queue:\n",
        "  print(queue.popleft()) # DeQueue O(1)"
      ],
      "metadata": {
        "colab": {
          "base_uri": "https://localhost:8080/"
        },
        "id": "z4fQEdDgv_Lv",
        "outputId": "88ec2a41-bf0c-4fb7-c719-d872132c0a7f"
      },
      "execution_count": 46,
      "outputs": [
        {
          "output_type": "stream",
          "name": "stdout",
          "text": [
            "1\n",
            "2\n",
            "3\n",
            "4\n",
            "5\n"
          ]
        }
      ]
    },
    {
      "cell_type": "code",
      "source": [],
      "metadata": {
        "id": "qpBBjI1lwA1N"
      },
      "execution_count": null,
      "outputs": []
    }
  ]
}