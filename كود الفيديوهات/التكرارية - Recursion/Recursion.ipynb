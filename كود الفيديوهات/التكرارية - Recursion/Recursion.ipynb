{
  "nbformat": 4,
  "nbformat_minor": 0,
  "metadata": {
    "colab": {
      "provenance": []
    },
    "kernelspec": {
      "name": "python3",
      "display_name": "Python 3"
    },
    "language_info": {
      "name": "python"
    }
  },
  "cells": [
    {
      "cell_type": "code",
      "source": [
        "def factorial(n):\n",
        "    if n == 1:\n",
        "        return 1\n",
        "\n",
        "    return n * factorial(n-1)"
      ],
      "metadata": {
        "id": "H5POLmCiq2qH"
      },
      "execution_count": 1,
      "outputs": []
    },
    {
      "cell_type": "code",
      "execution_count": 2,
      "metadata": {
        "id": "_WjsYoshqtKW"
      },
      "outputs": [],
      "source": [
        "def fib(n):\n",
        "    if n == 0 or n == 1:\n",
        "        return 1\n",
        "\n",
        "    return fib(n-1) + fib(n-2)"
      ]
    },
    {
      "cell_type": "code",
      "source": [
        "def tri(n):\n",
        "    if n == 0 or n == 1 or n == 2:\n",
        "        return 1\n",
        "\n",
        "    return tri(n-1) + tri(n-2) + tri(n-3)"
      ],
      "metadata": {
        "id": "7wNa_0_37kSc"
      },
      "execution_count": 3,
      "outputs": []
    },
    {
      "cell_type": "code",
      "source": [
        "print(factorial(4))\n",
        "print(fib(6))\n",
        "print(tri(6))"
      ],
      "metadata": {
        "colab": {
          "base_uri": "https://localhost:8080/"
        },
        "id": "QvKfnH8SrE3L",
        "outputId": "2c7784d8-6d8a-4749-ddd9-e60cab2709d9"
      },
      "execution_count": 4,
      "outputs": [
        {
          "output_type": "stream",
          "name": "stdout",
          "text": [
            "24\n",
            "13\n",
            "17\n"
          ]
        }
      ]
    },
    {
      "cell_type": "code",
      "source": [],
      "metadata": {
        "id": "OF1m6iCeXuAu"
      },
      "execution_count": null,
      "outputs": []
    }
  ]
}