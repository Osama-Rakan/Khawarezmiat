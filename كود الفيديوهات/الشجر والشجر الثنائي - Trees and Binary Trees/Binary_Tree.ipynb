{
  "nbformat": 4,
  "nbformat_minor": 0,
  "metadata": {
    "colab": {
      "provenance": []
    },
    "kernelspec": {
      "name": "python3",
      "display_name": "Python 3"
    },
    "language_info": {
      "name": "python"
    }
  },
  "cells": [
    {
      "cell_type": "code",
      "execution_count": 1,
      "metadata": {
        "id": "eMYAuTxCn9WV"
      },
      "outputs": [],
      "source": [
        "class Node:\n",
        "  def __init__(self, val=0, left=None, right=None):\n",
        "    self.val = val\n",
        "    self.left = left\n",
        "    self.right = right"
      ]
    },
    {
      "cell_type": "code",
      "source": [
        "node1 = Node(10)\n",
        "root = node1\n",
        "\n",
        "node2 = Node(5)\n",
        "node3 = Node(100)\n",
        "node4 = Node(3)\n",
        "node5 = Node(500)\n",
        "node6 = Node(40)\n",
        "node7 = Node(30)"
      ],
      "metadata": {
        "id": "mFJKvSVxrpOf"
      },
      "execution_count": 2,
      "outputs": []
    },
    {
      "cell_type": "code",
      "source": [
        "root.left = node2\n",
        "root.right = node3\n",
        "\n",
        "node2.left = node5\n",
        "node2.right = node6\n",
        "\n",
        "node3.left = node4\n",
        "\n",
        "node5.left = node7"
      ],
      "metadata": {
        "id": "xTfExAVuu9ZL"
      },
      "execution_count": 3,
      "outputs": []
    },
    {
      "cell_type": "code",
      "source": [
        "from collections import deque\n",
        "\n",
        "def BFS(root):\n",
        "  if not root:\n",
        "    return []\n",
        "  ans = []\n",
        "\n",
        "  queue = deque()\n",
        "  queue.append(root)\n",
        "  while queue:\n",
        "    current = queue.popleft()\n",
        "    ans.append(current.val)\n",
        "\n",
        "    if current.left:\n",
        "      queue.append(current.left)\n",
        "    if current.right:\n",
        "      queue.append(current.right)\n",
        "\n",
        "  return ans\n",
        "\n",
        "ans = BFS(None)\n",
        "print(ans)"
      ],
      "metadata": {
        "colab": {
          "base_uri": "https://localhost:8080/"
        },
        "id": "wIe_WQtYu9be",
        "outputId": "cfadc5b2-9113-4507-d050-e6038636f904"
      },
      "execution_count": 4,
      "outputs": [
        {
          "output_type": "stream",
          "name": "stdout",
          "text": [
            "[]\n"
          ]
        }
      ]
    },
    {
      "cell_type": "code",
      "source": [
        "def dfs(root):\n",
        "  if not root:\n",
        "    return []\n",
        "\n",
        "  left = dfs(root.left)\n",
        "  right = dfs(root.right)\n",
        "\n",
        "  return  [root.val] + left + right\n",
        "\n",
        "dfs(root)"
      ],
      "metadata": {
        "colab": {
          "base_uri": "https://localhost:8080/"
        },
        "id": "XHli6Xpkz_K2",
        "outputId": "72754075-570f-464d-e7ab-394dbafdf15d"
      },
      "execution_count": 5,
      "outputs": [
        {
          "output_type": "execute_result",
          "data": {
            "text/plain": [
              "[10, 5, 500, 30, 40, 100, 3]"
            ]
          },
          "metadata": {},
          "execution_count": 5
        }
      ]
    },
    {
      "cell_type": "code",
      "source": [],
      "metadata": {
        "id": "Rae5bqbW0YrK"
      },
      "execution_count": null,
      "outputs": []
    }
  ]
}