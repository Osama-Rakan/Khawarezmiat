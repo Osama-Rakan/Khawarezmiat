{
  "nbformat": 4,
  "nbformat_minor": 0,
  "metadata": {
    "colab": {
      "provenance": []
    },
    "kernelspec": {
      "name": "python3",
      "display_name": "Python 3"
    },
    "language_info": {
      "name": "python"
    }
  },
  "cells": [
    {
      "cell_type": "code",
      "source": [
        "class Node:\n",
        "  def __init__(self, val=0, next=None):\n",
        "    self.val = val\n",
        "    self.next = next"
      ],
      "metadata": {
        "id": "foBNaHT34kHq"
      },
      "execution_count": null,
      "outputs": []
    },
    {
      "cell_type": "code",
      "source": [
        "node1 = Node()\n",
        "print(node1)\n",
        "print(node1.val)\n",
        "print(node1.next)"
      ],
      "metadata": {
        "colab": {
          "base_uri": "https://localhost:8080/"
        },
        "id": "QRROeE1a42I1",
        "outputId": "528ec17f-e42b-42eb-f370-1413fee7f002"
      },
      "execution_count": null,
      "outputs": [
        {
          "output_type": "stream",
          "name": "stdout",
          "text": [
            "<__main__.Node object at 0x791f8b986b30>\n",
            "0\n",
            "None\n"
          ]
        }
      ]
    },
    {
      "cell_type": "code",
      "source": [
        "node1.val = 7\n",
        "print(node1.val)"
      ],
      "metadata": {
        "colab": {
          "base_uri": "https://localhost:8080/"
        },
        "id": "aJ4nLVAp5FBk",
        "outputId": "4439aff1-d9d4-418c-858b-213fdd444694"
      },
      "execution_count": null,
      "outputs": [
        {
          "output_type": "stream",
          "name": "stdout",
          "text": [
            "7\n"
          ]
        }
      ]
    },
    {
      "cell_type": "code",
      "source": [
        "node2 = Node(val=100, next=node1)\n",
        "print(node2)\n",
        "print(node2.val)\n",
        "print(node2.next)"
      ],
      "metadata": {
        "colab": {
          "base_uri": "https://localhost:8080/"
        },
        "id": "uRku1eZ65NIV",
        "outputId": "b7f2ae74-6ea7-4ed3-ab69-eb8f598c438f"
      },
      "execution_count": null,
      "outputs": [
        {
          "output_type": "stream",
          "name": "stdout",
          "text": [
            "<__main__.Node object at 0x791f81e1fa00>\n",
            "100\n",
            "<__main__.Node object at 0x791f8b986b30>\n"
          ]
        }
      ]
    },
    {
      "cell_type": "code",
      "source": [
        "head = None"
      ],
      "metadata": {
        "id": "HR5h-G-e5W5N"
      },
      "execution_count": null,
      "outputs": []
    },
    {
      "cell_type": "code",
      "source": [
        "head = node2"
      ],
      "metadata": {
        "id": "iQ8xGfsB5hkw"
      },
      "execution_count": null,
      "outputs": []
    },
    {
      "cell_type": "code",
      "source": [
        "def printLinkedList(current):\n",
        "  while current:\n",
        "    print(current.val)\n",
        "    current = current.next\n",
        "printLinkedList(head)"
      ],
      "metadata": {
        "colab": {
          "base_uri": "https://localhost:8080/"
        },
        "id": "erapVxMd5jTl",
        "outputId": "5dac6b46-0afb-4501-c80c-4d041fde376f"
      },
      "execution_count": null,
      "outputs": [
        {
          "output_type": "stream",
          "name": "stdout",
          "text": [
            "100\n",
            "7\n"
          ]
        }
      ]
    },
    {
      "cell_type": "code",
      "source": [
        "head.val"
      ],
      "metadata": {
        "colab": {
          "base_uri": "https://localhost:8080/"
        },
        "id": "kQzxFHBT6Ft9",
        "outputId": "adcc069f-cec6-43b0-b8f4-e67b8f8e6f95"
      },
      "execution_count": null,
      "outputs": [
        {
          "output_type": "execute_result",
          "data": {
            "text/plain": [
              "100"
            ]
          },
          "metadata": {},
          "execution_count": 42
        }
      ]
    },
    {
      "cell_type": "code",
      "source": [
        "def printLinkedList(current):\n",
        "  if not current:\n",
        "    return\n",
        "  print(current.val)\n",
        "  printLinkedList(current.next)\n",
        "printLinkedList(head)"
      ],
      "metadata": {
        "colab": {
          "base_uri": "https://localhost:8080/"
        },
        "id": "K7-KXeps6OEn",
        "outputId": "41a72103-ee54-48e0-e055-81e8f287aef5"
      },
      "execution_count": null,
      "outputs": [
        {
          "output_type": "stream",
          "name": "stdout",
          "text": [
            "100\n",
            "7\n"
          ]
        }
      ]
    },
    {
      "cell_type": "code",
      "source": [],
      "metadata": {
        "id": "1b4IOjQY6ww8"
      },
      "execution_count": null,
      "outputs": []
    }
  ]
}